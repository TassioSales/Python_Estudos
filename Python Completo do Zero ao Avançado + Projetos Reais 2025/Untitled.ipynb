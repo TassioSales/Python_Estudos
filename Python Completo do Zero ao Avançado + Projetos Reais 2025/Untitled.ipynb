{
 "cells": [
  {
   "metadata": {},
   "cell_type": "raw",
   "source": "",
   "id": "c323aaca1d23fe4b"
  }
 ],
 "metadata": {},
 "nbformat": 4,
 "nbformat_minor": 5
}
