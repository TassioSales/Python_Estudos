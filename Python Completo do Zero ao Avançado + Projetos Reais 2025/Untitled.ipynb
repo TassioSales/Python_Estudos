{
 "cells": [
  {
   "metadata": {},
   "cell_type": "raw",
   "source": "",
   "id": "4ffb398c56eeb56a"
  }
 ],
 "metadata": {},
 "nbformat": 4,
 "nbformat_minor": 5
}
