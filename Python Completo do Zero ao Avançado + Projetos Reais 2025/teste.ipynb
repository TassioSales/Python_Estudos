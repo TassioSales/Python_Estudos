{
 "cells": [
  {
   "cell_type": "code",
   "id": "64708f08-e0fa-4443-9e24-ba20bd08ca8f",
   "metadata": {
    "jupyter": {
     "is_executing": true
    }
   },
   "source": [
    "# Assistant\n",
    "# Definindo os valores\n",
    "a = 1  # Atribuindo o valor 1 à variável a\n",
    "b = 2  # Atribuindo o valor 2 à variável b\n",
    "\n",
    "# Testando cada expressão\n",
    "print(\"1. (a == 2 and b != 1):\", a == 2 and b != 1)  # Verifica se a é igual a 2 E b é diferente de 1\n",
    "print(\"2. (a != 1 or b == 1):\", a != 1 or b == 1)    # Verifica se a é diferente de 1 OU b é igual a 1\n",
    "print(\"3. (a != 2 or b == 1):\", a != 2 or b == 1)    # Verifica se a é diferente de 2 OU b é igual a 1\n",
    "print(\"4. (not(a == 1)):\", not(a == 1))              # Verifica a negação da expressão (a é igual a 1)"
   ],
   "outputs": [],
   "execution_count": null
  },
  {
   "cell_type": "code",
   "execution_count": 16,
   "id": "2d802604-5d2f-482f-88a5-5b20667e3367",
   "metadata": {},
   "outputs": [
    {
     "name": "stdout",
     "output_type": "stream",
     "text": [
      "1. (a == 2 and b != 1): False\n",
      "2. (a != 1 or b == 1): False\n",
      "3. (a != 2 or b == 1): True\n",
      "4. (not(a == 1)): False\n"
     ]
    }
   ],
   "source": [
    "def demonstrate_logical_operations() -> None:\n",
    "    \"\"\"\n",
    "    Demonstrates various logical operations in Python using two variables.\n",
    "    \n",
    "    This function creates two variables with fixed values and prints the results\n",
    "    of different logical expressions to demonstrate how logical operators work.\n",
    "    \"\"\"\n",
    "    # Define the values\n",
    "    a: int = 1  # Value for variable a\n",
    "    b: int = 2  # Value for variable b\n",
    "    \n",
    "    # Test and print each logical expression\n",
    "    print(f\"1. (a == 2 and b != 1): {a == 2 and b != 1}\")  # True if a equals 2 AND b is not 1\n",
    "    print(f\"2. (a != 1 or b == 1): {a != 1 or b == 1}\")    # True if a is not 1 OR b equals 1\n",
    "    print(f\"3. (a != 2 or b == 1): {a != 2 or b == 1}\")    # True if a is not 2 OR b equals 1\n",
    "    print(f\"4. (not(a == 1)): {not(a == 1)}\")              # True if a is NOT equal to 1\n",
    "\n",
    "# Execute the demonstration\n",
    "demonstrate_logical_operations()"
   ]
  },
  {
   "cell_type": "code",
   "execution_count": 7,
   "id": "1a87c81d-17f6-4885-be3f-b8cd8674cd32",
   "metadata": {},
   "outputs": [
    {
     "name": "stdout",
     "output_type": "stream",
     "text": [
      "1. (not y > 10 or not z > 10): False\n",
      "2. (not y < 10 or not z == 10): True\n",
      "3. (x >= 10 or y != z - x): True\n",
      "4. (x <= 30 and y >= 5): True\n"
     ]
    }
   ],
   "source": [
    "# Definindo os valores\n",
    "x = 10\n",
    "y = 20\n",
    "z = 30\n",
    "\n",
    "# Testando cada expressão\n",
    "print(\"1. (not y > 10 or not z > 10):\", not y > 10 or not z > 10)\n",
    "print(\"2. (not y < 10 or not z == 10):\", not y < 10 or not z == 10)\n",
    "print(\"3. (x >= 10 or y != z - x):\", x >= 10 or y != (z - x))\n",
    "print(\"4. (x <= 30 and y >= 5):\", x <= 30 and y >= 5)"
   ]
  },
  {
   "cell_type": "code",
   "execution_count": 13,
   "id": "1f5eaa4f-5731-46ce-b4b3-45f89d2fb4ee",
   "metadata": {},
   "outputs": [
    {
     "name": "stdout",
     "output_type": "stream",
     "text": [
      "1. (not value_y > 10 or not value_z > 10): False\n",
      "2. (not value_y < 10 or not value_z == 10): True\n",
      "3. (value_x >= 10 or value_y != value_z - value_x): True\n",
      "4. (value_x <= 30 and value_y >= 5): True\n"
     ]
    }
   ],
   "source": [
    "def evaluate_logical_expressions() -> None:\n",
    "    \"\"\"\n",
    "    Evaluates and prints the results of various logical expressions.\n",
    "    \n",
    "    This function defines three variables (x, y, z) and evaluates four logical\n",
    "    expressions using these variables, printing the results with descriptive labels.\n",
    "    \"\"\"\n",
    "    # Define the values with descriptive variable names\n",
    "    value_x: int = 10\n",
    "    value_y: int = 20\n",
    "    value_z: int = 30\n",
    "\n",
    "    # Evaluate and print each logical expression with clear formatting\n",
    "    print(f\"1. (not value_y > 10 or not value_z > 10): {not value_y > 10 or not value_z > 10}\")\n",
    "    print(f\"2. (not value_y < 10 or not value_z == 10): {not value_y < 10 or not value_z == 10}\")\n",
    "    print(f\"3. (value_x >= 10 or value_y != value_z - value_x): {value_x >= 10 or value_y != (value_z - value_x)}\")\n",
    "    print(f\"4. (value_x <= 30 and value_y >= 5): {value_x <= 30 and value_y >= 5}\")\n",
    "\n",
    "\n",
    "# Execute the function to display the results\n",
    "evaluate_logical_expressions()"
   ]
  },
  {
   "cell_type": "code",
   "execution_count": null,
   "id": "65697805-8029-4451-aa19-753751d0b3a3",
   "metadata": {},
   "outputs": [],
   "source": []
  }
 ],
 "metadata": {
  "kernelspec": {
   "display_name": "Python [conda env:base] *",
   "language": "python",
   "name": "conda-base-py"
  },
  "language_info": {
   "codemirror_mode": {
    "name": "ipython",
    "version": 3
   },
   "file_extension": ".py",
   "mimetype": "text/x-python",
   "name": "python",
   "nbconvert_exporter": "python",
   "pygments_lexer": "ipython3",
   "version": "3.12.7"
  }
 },
 "nbformat": 4,
 "nbformat_minor": 5
}
